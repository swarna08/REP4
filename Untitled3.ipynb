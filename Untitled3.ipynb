{
 "cells": [
  {
   "cell_type": "code",
   "execution_count": 1,
   "metadata": {},
   "outputs": [
    {
     "data": {
      "text/plain": [
       "array([1, 5, 7], dtype=int64)"
      ]
     },
     "execution_count": 1,
     "metadata": {},
     "output_type": "execute_result"
    }
   ],
   "source": [
    "#2.\tGet the positions of peaks (values surrounded by smaller values on both sides) in ser\n",
    "import numpy as np\n",
    "import pandas as pd\n",
    "ser = pd.Series([2, 10, 3, 4, 9, 10, 2, 7, 3])\n",
    "dd=np.diff(np.sign(np.diff(ser)))\n",
    "peak_locs=np.where(dd==-2)[0]+1\n",
    "peak_locs"
   ]
  },
  {
   "cell_type": "code",
   "execution_count": 2,
   "metadata": {},
   "outputs": [
    {
     "name": "stdout",
     "output_type": "stream",
     "text": [
      "d    4\n",
      "b    3\n",
      "     3\n",
      "e    3\n",
      "a    2\n",
      "c    1\n",
      "g    1\n",
      "dtype: int64\n"
     ]
    },
    {
     "data": {
      "text/plain": [
       "'dbcgdebgabedggade'"
      ]
     },
     "execution_count": 2,
     "metadata": {},
     "output_type": "execute_result"
    }
   ],
   "source": [
    "#3.\tReplace the spaces in my_str with the least frequent character.\n",
    "my_str = 'dbc deb abed gade'\n",
    "ser=pd.Series(list('dbc deb abed gade'))\n",
    "freq=ser.value_counts()\n",
    "print(freq)\n",
    "least_freq=freq.dropna().index[-1]\n",
    "\"\".join(ser.replace(' ',least_freq))"
   ]
  },
  {
   "cell_type": "code",
   "execution_count": 8,
   "metadata": {},
   "outputs": [
    {
     "name": "stdout",
     "output_type": "stream",
     "text": [
      "sol 1 is 18.16590212458495\n",
      "sol 2 is 18.16590212458495\n"
     ]
    }
   ],
   "source": [
    "#\tCompute the euclidean distance between series (points) p and q, without using a packaged formula.\n",
    "p = pd.Series([1, 2, 3, 4, 5, 6, 7, 8, 9, 10])\n",
    "q = pd.Series([10, 9, 8, 7, 6, 5, 4, 3, 2, 1])\n",
    "sol1=sum((p-q)**2)**0.5\n",
    "print('sol 1 is',sol1)\n",
    "\n",
    "sol2=np.linalg.norm(p-q)\n",
    "print('sol 2 is',sol2)"
   ]
  },
  {
   "cell_type": "code",
   "execution_count": 10,
   "metadata": {},
   "outputs": [
    {
     "data": {
      "text/plain": [
       "2000-01-01    7\n",
       "2000-01-08    5\n",
       "2000-01-15    7\n",
       "2000-01-22    5\n",
       "2000-01-29    3\n",
       "2000-02-05    4\n",
       "2000-02-12    2\n",
       "2000-02-19    4\n",
       "2000-02-26    1\n",
       "2000-03-04    4\n",
       "Freq: W-SAT, dtype: int32"
      ]
     },
     "execution_count": 10,
     "metadata": {},
     "output_type": "execute_result"
    }
   ],
   "source": [
    "#Create a TimeSeries starting ‘2000-01-01’ and 10 weekends (saturdays) with random numbers as values in another column\n",
    "ser=pd.Series(np.random.randint(1,10,10),pd.date_range('2000-01-01',periods=10,freq='W-SAT'))\n",
    "ser\n"
   ]
  },
  {
   "cell_type": "code",
   "execution_count": 13,
   "metadata": {},
   "outputs": [
    {
     "name": "stdout",
     "output_type": "stream",
     "text": [
      "2000-01-01     1.0\n",
      "2000-01-03    10.0\n",
      "2000-01-06     3.0\n",
      "2000-01-08     NaN\n",
      "dtype: float64\n"
     ]
    },
    {
     "data": {
      "text/plain": [
       "2000-01-01     1.0\n",
       "2000-01-02    10.0\n",
       "2000-01-03    10.0\n",
       "2000-01-04     3.0\n",
       "2000-01-05     3.0\n",
       "2000-01-06     3.0\n",
       "2000-01-07     3.0\n",
       "2000-01-08     3.0\n",
       "Freq: D, dtype: float64"
      ]
     },
     "execution_count": 13,
     "metadata": {},
     "output_type": "execute_result"
    }
   ],
   "source": [
    "#5.\tser has missing dates and values. Make all missing dates appear and fill up with value from previous date\n",
    "ser = pd.Series([1,10,3,np.nan], index=pd.to_datetime(['2000-01-01', '2000-01-03', '2000-01-06', '2000-01-08']))\n",
    "print(ser)\n",
    "\n",
    "#solution1\n",
    "ser.resample('D').ffill()\n",
    "\n",
    "\n",
    "#alternative\n",
    "ser.resample('D').bfill()\n",
    "ser.resample('D').bfill().ffill()"
   ]
  },
  {
   "cell_type": "code",
   "execution_count": null,
   "metadata": {},
   "outputs": [],
   "source": []
  }
 ],
 "metadata": {
  "kernelspec": {
   "display_name": "Python 3",
   "language": "python",
   "name": "python3"
  },
  "language_info": {
   "codemirror_mode": {
    "name": "ipython",
    "version": 3
   },
   "file_extension": ".py",
   "mimetype": "text/x-python",
   "name": "python",
   "nbconvert_exporter": "python",
   "pygments_lexer": "ipython3",
   "version": "3.7.0"
  }
 },
 "nbformat": 4,
 "nbformat_minor": 2
}
